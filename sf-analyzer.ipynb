{
 "cells": [
  {
   "cell_type": "markdown",
   "id": "35a3ff32",
   "metadata": {},
   "source": [
    "# Capstone Journal\n",
    "\n",
    "**5/15/2025**:   Class meetup. Read, set, go!"
   ]
  },
  {
   "cell_type": "markdown",
   "id": "be692794",
   "metadata": {},
   "source": [
    "**5/19/2025**:   Reviewed requirements, created project directory, base files, and drafted a vision board.\n",
    "\n",
    "![Management Cycle Flowchart](management-cycle.png)\n",
    "\n",
    "- NOTE: I want to give the CSV data some context by generating a new fake csv that reflects a developers finances.\n",
    "- ACTION: Created `csv_faker.py` to generate 500,000 transaction records and saved them to `developer_transactions.csv`."
   ]
  }
 ],
 "metadata": {
  "language_info": {
   "name": "python"
  }
 },
 "nbformat": 4,
 "nbformat_minor": 5
}
