{
 "cells": [
  {
   "cell_type": "markdown",
   "id": "35a3ff32",
   "metadata": {},
   "source": [
    "# Capstone Journal\n",
    "\n",
    "**5/15/2025**:   Class meetup. Read, set, go!"
   ]
  },
  {
   "cell_type": "markdown",
   "id": "be692794",
   "metadata": {},
   "source": [
    "**5/19/2025**:   Reviewed requirements, created project directory, base files, and drafted a vision board.\n",
    "\n",
    "![Management Cycle Flowchart](management-cycle.png)\n",
    "\n",
    "- NOTE: I want to give the CSV data some context by generating a new fake csv that reflects a developers finances.\n",
    "- ACTION: Created `csv_faker.py` to generate 500,000 transaction records and saved them to `developer_transactions.csv`."
   ]
  },
  {
   "cell_type": "code",
   "execution_count": 6,
   "id": "e77c0bfa",
   "metadata": {},
   "outputs": [
    {
     "name": "stdout",
     "output_type": "stream",
     "text": [
      "Loaded transactions:\n",
      "{'transaction_id': 1, 'date': datetime.date(2021, 11, 19), 'customer_id': 719, 'amount': 363.2, 'type': 'transfer', 'description': 'Payment to friend for dinner'}\n",
      "{'transaction_id': 2, 'date': datetime.date(2024, 4, 16), 'customer_id': 674, 'amount': 456.13, 'type': 'transfer', 'description': 'Reimbursement for shared purchase'}\n",
      "{'transaction_id': 3, 'date': datetime.date(2017, 4, 13), 'customer_id': 651, 'amount': 273.71, 'type': 'transfer', 'description': 'Transfer to investment account'}\n",
      "Total transactions loaded: 500000\n"
     ]
    }
   ],
   "source": [
    "# Task 1: Loading Transactions from a CSV File\n",
    "\n",
    "# Parse data with datetime.strptime\n",
    "# Make amount negative for 'debit'\n",
    "# Convert transaction_id and customer_id to integers\n",
    "# Create dictionary with all fields\n",
    "# Add to transactions \n",
    "# Catch FileNotFoundError and ValueError\n",
    "\n",
    "# NOTE: These functions will all go into a `FinanceUtils` class inside the utils.py file\n",
    "\n",
    "import csv\n",
    "from datetime import datetime\n",
    "\n",
    "def load_transactions(filename='financial_transactions.csv'):\n",
    "    \"\"\"Load transactions from a CSV file into a list of dictionaries.\"\"\"\n",
    "\n",
    "    transactions = []\n",
    "    with open(filename, mode='r', newline='') as csvfile:\n",
    "        reader = csv.DictReader(csvfile)\n",
    "        for row in reader:\n",
    "            # Convert transaction ID to integer\n",
    "            row['transaction_id'] = int(row['transaction_id'])\n",
    "            # Convert customer ID to integer\n",
    "            row['customer_id'] = int(row['customer_id'])\n",
    "            # Convert date string to datetime object\n",
    "            row['date'] = datetime.strptime(row['date'], '%Y-%m-%d').date()\n",
    "            # Convert amount to float\n",
    "            row['amount'] = float(row['amount'])\n",
    "            # Make amount negative for 'debit'\n",
    "            if row['type'] == 'debit':\n",
    "                row['amount'] = -row['amount']\n",
    "            transactions.append(row)\n",
    "\n",
    "    return transactions\n",
    "\n",
    "# Test: Print the first 3 transactions\n",
    "print(\"Loaded transactions:\")\n",
    "transactions = load_transactions(filename='developer_transactions.csv')\n",
    "for transaction in range(3):\n",
    "    print(transactions[transaction])\n",
    "\n",
    "print(f\"Total transactions loaded: {len(transactions)}\")"
   ]
  }
 ],
 "metadata": {
  "kernelspec": {
   "display_name": "Python 3",
   "language": "python",
   "name": "python3"
  },
  "language_info": {
   "codemirror_mode": {
    "name": "ipython",
    "version": 3
   },
   "file_extension": ".py",
   "mimetype": "text/x-python",
   "name": "python",
   "nbconvert_exporter": "python",
   "pygments_lexer": "ipython3",
   "version": "3.12.1"
  }
 },
 "nbformat": 4,
 "nbformat_minor": 5
}
